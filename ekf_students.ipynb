{
 "cells": [
  {
   "cell_type": "markdown",
   "metadata": {},
   "source": [
    "# Laboratory 04\n",
    "**Localization of a robot with Extended Kalman Filter**"
   ]
  },
  {
   "cell_type": "markdown",
   "metadata": {},
   "source": [
    "---\n",
    "## Objective\n",
    "\n",
    "- Implement the equation of the EKF in a Python script\n",
    "- Run a localization simulation with the implemented script\n",
    "- Understand the influence of parameters of the EKF\n"
   ]
  },
  {
   "cell_type": "markdown",
   "metadata": {},
   "source": [
    "---\n",
    "\n",
    "## NumPy Usage\n",
    "\n",
    "NumPy is a fundamental Python library for numerical computing. It stands for Numerical Python and offers powerful tools and data structures, primarily multidimensional arrays (ndarrays), along with a collection of mathematical functions to operate on these arrays. NumPy provides efficient methods for manipulating large datasets and performing a wide range of mathematical computations, including linear algebra, Fourier analysis, statistics, random number generation, and more. Its versatility, speed, and ease of use make it a pillar in various fields such as scientific computing, data analysis and machine learning.\n",
    "\n",
    "In the following cells are reported some common operations that can be performed on array and matrices using this library."
   ]
  },
  {
   "cell_type": "markdown",
   "metadata": {},
   "source": [
    "##### Import NumPy and create a simple array\n"
   ]
  },
  {
   "cell_type": "code",
   "execution_count": 443,
   "metadata": {},
   "outputs": [
    {
     "name": "stdout",
     "output_type": "stream",
     "text": [
      "arr: [[1 2 3 4]]\n",
      "shape: (1, 4)\n"
     ]
    }
   ],
   "source": [
    "import numpy as np\n",
    "np.set_printoptions(precision=5)\n",
    "                      \n",
    "arr = np.array([[1,2,3,4]])\n",
    "print(f\"arr: {arr}\") \n",
    "print(f\"shape: {arr.shape}\") # with the shape attribute, we can see the dimension of the array (rows, columns)"
   ]
  },
  {
   "cell_type": "markdown",
   "metadata": {},
   "source": [
    "##### Transpose a matrix or an array"
   ]
  },
  {
   "cell_type": "code",
   "execution_count": 444,
   "metadata": {},
   "outputs": [
    {
     "name": "stdout",
     "output_type": "stream",
     "text": [
      "arrT: \n",
      "[[1]\n",
      " [2]\n",
      " [3]\n",
      " [4]],\n",
      "shape: (4, 1)\n"
     ]
    }
   ],
   "source": [
    "arrT = arr.T\n",
    "print(f\"arrT: \\n{arrT},\\nshape: {arrT.shape}\")"
   ]
  },
  {
   "cell_type": "markdown",
   "metadata": {},
   "source": [
    "##### Matrix Multiplication\n",
    "The `@` perform a matrix multiplication, so the order of the operands it is relevant. I reported here an example of multiplying $A^T A $ and $ A A^T$."
   ]
  },
  {
   "cell_type": "code",
   "execution_count": 445,
   "metadata": {},
   "outputs": [
    {
     "name": "stdout",
     "output_type": "stream",
     "text": [
      "[[ 1  2  3  4]\n",
      " [ 2  4  6  8]\n",
      " [ 3  6  9 12]\n",
      " [ 4  8 12 16]]\n",
      "[[30]]\n"
     ]
    }
   ],
   "source": [
    "print(arrT @ arr)\n",
    "\n",
    "print(arr @ arrT)"
   ]
  },
  {
   "cell_type": "markdown",
   "metadata": {},
   "source": [
    "##### Inverse of a Matrix"
   ]
  },
  {
   "cell_type": "code",
   "execution_count": 446,
   "metadata": {},
   "outputs": [
    {
     "name": "stdout",
     "output_type": "stream",
     "text": [
      "[[1 2]\n",
      " [3 4]]\n",
      "[[-2.   1. ]\n",
      " [ 1.5 -0.5]]\n",
      "[[1.00000e+00 0.00000e+00]\n",
      " [8.88178e-16 1.00000e+00]]\n"
     ]
    }
   ],
   "source": [
    "from numpy.linalg import inv # this operator is used to compute the inverse of a matrix\n",
    "\n",
    "square_mat = np.array([[1,2],[3,4]]) # create a 2x2 matrix\n",
    "print(square_mat)\n",
    "print(inv(square_mat)) # compute the inverse of the matrix\n",
    "print(square_mat @ inv(square_mat)) # compute the product of the matrix and its inverse (should be the identity matrix)"
   ]
  },
  {
   "cell_type": "markdown",
   "metadata": {},
   "source": [
    "##### Slicing\n",
    "\n",
    "Get an element, rows or columns from a matrix. Similar to MATLAB but remember that the indexes starts from 0."
   ]
  },
  {
   "cell_type": "code",
   "execution_count": 447,
   "metadata": {},
   "outputs": [
    {
     "name": "stdout",
     "output_type": "stream",
     "text": [
      "2\n",
      "[1 2]\n",
      "[2 4]\n"
     ]
    }
   ],
   "source": [
    "# get element at row 0, column 1\n",
    "print(square_mat[0,1])\n",
    "\n",
    "# get row 0\n",
    "print(square_mat[0,:])\n",
    "\n",
    "# get column 1\n",
    "print(square_mat[:,1])"
   ]
  },
  {
   "cell_type": "markdown",
   "metadata": {},
   "source": [
    "---\n",
    "## SymPy Usage\n",
    "\n",
    "SymPy is a Python library used for symbolic mathematics. It aims to become a full-featured computer algebra system while keeping the code as simple as possible in order to be comprehensible and easily extensible. SymPy includes features ranging from basic symbolic arithmetic to calculus, algebra, discrete mathematics and quantum physics.\n",
    "\n",
    "We will use this library to write measurement and motion models and to evaluate easily their Jacobians."
   ]
  },
  {
   "cell_type": "code",
   "execution_count": 448,
   "metadata": {},
   "outputs": [],
   "source": [
    "# Import the module and the most relevant functions\n",
    "import sympy\n",
    "sympy.init_printing(use_latex='mathjax')\n",
    "from sympy import symbols, Matrix, latex"
   ]
  },
  {
   "cell_type": "code",
   "execution_count": 449,
   "metadata": {},
   "outputs": [
    {
     "data": {
      "text/latex": [
       "$\\displaystyle \\left[\\begin{matrix}\\frac{2 a}{d}\\\\b \\sin{\\left(c \\right)}\\end{matrix}\\right]$"
      ],
      "text/plain": [
       "⎡  2⋅a   ⎤\n",
       "⎢  ───   ⎥\n",
       "⎢   d    ⎥\n",
       "⎢        ⎥\n",
       "⎣b⋅sin(c)⎦"
      ]
     },
     "execution_count": 449,
     "metadata": {},
     "output_type": "execute_result"
    }
   ],
   "source": [
    "# Create the symbolic variables\n",
    "a, b, c, d = symbols('a b c d')\n",
    "\n",
    "# Create a Matrix using the symbolic variables\n",
    "my_matrix = Matrix([[2*a/d], [b*sympy.sin(c)]])\n",
    "my_matrix"
   ]
  },
  {
   "cell_type": "code",
   "execution_count": 450,
   "metadata": {},
   "outputs": [
    {
     "data": {
      "text/latex": [
       "$\\displaystyle \\left[\\begin{matrix}\\frac{2}{d} & 0 & 0 & - \\frac{2 a}{d^{2}}\\\\0 & \\sin{\\left(c \\right)} & b \\cos{\\left(c \\right)} & 0\\end{matrix}\\right]$"
      ],
      "text/plain": [
       "⎡2                    -2⋅a ⎤\n",
       "⎢─    0        0      ─────⎥\n",
       "⎢d                       2 ⎥\n",
       "⎢                       d  ⎥\n",
       "⎢                          ⎥\n",
       "⎣0  sin(c)  b⋅cos(c)    0  ⎦"
      ]
     },
     "execution_count": 450,
     "metadata": {},
     "output_type": "execute_result"
    }
   ],
   "source": [
    "# Compute the Jacobian of the matrix with respect to a vector\n",
    "jac = my_matrix.jacobian(Matrix([a, b, c, d]))\n",
    "jac"
   ]
  },
  {
   "cell_type": "code",
   "execution_count": 451,
   "metadata": {},
   "outputs": [
    {
     "data": {
      "text/plain": [
       "array([[0.5    ],\n",
       "       [0.28224]])"
      ]
     },
     "execution_count": 451,
     "metadata": {},
     "output_type": "execute_result"
    }
   ],
   "source": [
    "# Transform the symbolic Matrix in a function that can be evaluated numerically\n",
    "eval_my_matrix = sympy.lambdify((a, b, c, d), my_matrix, 'numpy')\n",
    "eval_my_matrix(a=1, b=2, c=3, d=4) # also eval_my_matrix(1, 2, 3, 4)"
   ]
  },
  {
   "cell_type": "code",
   "execution_count": 452,
   "metadata": {},
   "outputs": [
    {
     "data": {
      "text/plain": [
       "array([[ 0.5    ,  0.     ,  0.     , -0.125  ],\n",
       "       [ 0.     ,  0.14112, -1.97998,  0.     ]])"
      ]
     },
     "execution_count": 452,
     "metadata": {},
     "output_type": "execute_result"
    }
   ],
   "source": [
    "# Ypu can do the same for the Jacobian\n",
    "eval_jac = sympy.lambdify((a, b, c, d), jac, 'numpy')\n",
    "eval_jac(1, 2, 3, 4)"
   ]
  },
  {
   "cell_type": "markdown",
   "metadata": {},
   "source": [
    "---\n",
    "## Velocity Motion Model\n",
    "\n",
    "Using the SymPy library implement the Velocity Motion Model that is explained in the lecture slides. For clearness the main equation of the model is reported below.\n",
    "\n",
    "$$\n",
    "\\begin{pmatrix} x' \\\\ y' \\\\ \\theta' \\end{pmatrix} = g(u_t,x_{t-1}) + \\mathcal{N}(0, R_t)= \n",
    "\\begin{pmatrix} x \\\\ y \\\\ \\theta \\end{pmatrix} + \n",
    "\\begin{pmatrix} \n",
    "- \\frac{v_t}{\\omega_t }\\sin{\\theta} + \\frac{v_t}{\\omega_t }\\sin{( \\theta + \\omega_t \\Delta t )} \\\\\n",
    "\\frac{v_t}{\\omega_t }\\cos{\\theta} - \\frac{v_t}{\\omega_t }\\cos{(\\theta + \\omega_t \\Delta t)} \\\\\n",
    "\\omega_t \\Delta t\n",
    "\\end{pmatrix} + \\mathcal{N}(0, R_t)\n",
    "$$\n",
    "\n",
    "Then, use the function provided by SymPy to derive the Jacobian matrices w.r.t the state $G_t$ and the input $V_t$ and create a function to evaluate it."
   ]
  },
  {
   "cell_type": "code",
   "execution_count": 453,
   "metadata": {},
   "outputs": [
    {
     "data": {
      "text/latex": [
       "$\\displaystyle \\left[\\begin{matrix}- \\frac{v \\sin{\\left(\\theta \\right)}}{w} + \\frac{v \\sin{\\left(dt w + \\theta \\right)}}{w} + x\\\\\\frac{v \\cos{\\left(\\theta \\right)}}{w} - \\frac{v \\cos{\\left(dt w + \\theta \\right)}}{w} + y\\\\dt w + \\theta\\end{matrix}\\right]$"
      ],
      "text/plain": [
       "⎡  v⋅sin(θ)   v⋅sin(dt⋅w + θ)    ⎤\n",
       "⎢- ──────── + ─────────────── + x⎥\n",
       "⎢     w              w           ⎥\n",
       "⎢                                ⎥\n",
       "⎢ v⋅cos(θ)   v⋅cos(dt⋅w + θ)     ⎥\n",
       "⎢ ──────── - ─────────────── + y ⎥\n",
       "⎢    w              w            ⎥\n",
       "⎢                                ⎥\n",
       "⎣            dt⋅w + θ            ⎦"
      ]
     },
     "execution_count": 453,
     "metadata": {},
     "output_type": "execute_result"
    }
   ],
   "source": [
    "x, y, theta, v, w, dt = symbols('x y theta v w dt')\n",
    "gux = Matrix([x, y, theta]) + Matrix([-(v/w)*sympy.sin(theta) + (v/w)*sympy.sin(theta + w*dt), \n",
    "                                      (v/w)*sympy.cos(theta) - (v/w)*sympy.cos(theta + w*dt), \n",
    "                                      w*dt])\n",
    "gux"
   ]
  },
  {
   "cell_type": "code",
   "execution_count": 454,
   "metadata": {},
   "outputs": [],
   "source": [
    "eval_gux = sympy.lambdify((x, y, theta, v, w, dt), gux, 'numpy')"
   ]
  },
  {
   "cell_type": "code",
   "execution_count": null,
   "metadata": {},
   "outputs": [],
   "source": [
    "\n"
   ]
  },
  {
   "cell_type": "code",
   "execution_count": 455,
   "metadata": {},
   "outputs": [
    {
     "name": "stdout",
     "output_type": "stream",
     "text": [
      "[[ 1.       0.      -0.95645]\n",
      " [ 0.       1.       0.06783]\n",
      " [ 0.       0.       1.     ]]\n",
      "[[ 0.06783 -0.48397]\n",
      " [ 0.95645 -0.04715]\n",
      " [ 0.       1.     ]]\n"
     ]
    }
   ],
   "source": [
    "Gt = gux.jacobian(Matrix([x, y, theta]))\n",
    "eval_Gt = sympy.lambdify((x, y, theta, v, w, dt), Gt, 'numpy')\n",
    "Vt = gux.jacobian(Matrix([v, w]))\n",
    "eval_Vt = sympy.lambdify((x, y, theta, v, w, dt), Vt, 'numpy')\n",
    "\n",
    "# Add these lines to check the output of eval_Gt and eval_Vt\n",
    "test_input = (1, 1, 1, 1, 1, 1)  # replace with appropriate test inputs\n",
    "print(eval_Gt(*test_input))\n",
    "print(eval_Vt(*test_input))\n"
   ]
  },
  {
   "cell_type": "markdown",
   "metadata": {},
   "source": [
    "---\n",
    "## Landmarks Measurement Model\n",
    "\n",
    "As a measurement model we will use **landmarks** described by distance and bearing w.r.t. the robot current pose.\n",
    "\n",
    "$$\n",
    "h(x, m) = \n",
    "\\left(\n",
    "    \\begin{matrix}\n",
    "    \\sqrt{\\left(m_x - x\\right)^{2} + \\left(m_y - y\\right)^{2}}\\\\\n",
    "    \\operatorname{atan2}{\\left(m_y - y,m_x - x \\right)} - \\theta\n",
    "    \\end{matrix}\n",
    "\\right)\n",
    "$$\n",
    "\n",
    "Write in the following cell the code to compute the measurement and its Jacobian w.r.t. to the state. Remember to convert the symbolic functions to Python functions that can be evaluated as done in the previous step."
   ]
  },
  {
   "cell_type": "code",
   "execution_count": 456,
   "metadata": {},
   "outputs": [],
   "source": [
    "m_x, m_y = symbols('m_x m_y')\n",
    "hx = sympy.Matrix([sympy.sqrt((m_x - x)**2 + (m_y - y)**2), sympy.atan2(m_y - y, m_x - x) - theta])\n",
    "eval_hx = sympy.lambdify((x, y, theta, m_x, m_y), hx, 'numpy')"
   ]
  },
  {
   "cell_type": "code",
   "execution_count": 457,
   "metadata": {},
   "outputs": [],
   "source": [
    "Ht = hx.jacobian(Matrix([x, y, theta]))\n",
    "eval_Ht = sympy.lambdify([x, y, theta, m_x, m_y], Ht, 'numpy')\n"
   ]
  },
  {
   "cell_type": "markdown",
   "metadata": {},
   "source": [
    "---\n",
    "## EKF Implementation\n",
    "\n",
    "Complete the `RobotEKF` Class with the filter equations where you find the symbol `...`\n"
   ]
  },
  {
   "cell_type": "markdown",
   "metadata": {},
   "source": [
    "#### Filter Initialization\n",
    "\n",
    "In the function `__init__` the filter is initialized given the dimensions of the state `dim_x`, of the input `dim_u` and of the measurement `dim_z`.\n",
    "\n",
    "You must pass as arguments:\n",
    "- `dim_x`: the dimension of the state vector\n",
    "- `dim_z`: the dimension of the measurement vector\n",
    "- `dim_u`: the dimension of the input vector\n",
    "- `eval_gux`, `eval_Gt`, `eval_Vt`: the functions to evaluate the motion model and it Jacobians\n",
    "- `eval_hx`, `eval_Ht`: the functions to evaluate the measurement model and its Jacobian"
   ]
  },
  {
   "cell_type": "code",
   "execution_count": 458,
   "metadata": {},
   "outputs": [],
   "source": [
    "import math\n",
    "\n",
    "class RobotEKF:\n",
    "    def __init__(\n",
    "        self,\n",
    "        dim_x=1, dim_z=1, dim_u=1,\n",
    "        eval_gux=None, eval_Gt=None, eval_Vt=None,\n",
    "        eval_hx=None, eval_Ht=None,\n",
    "    ):\n",
    "        \"\"\"\n",
    "        Initializes the extended Kalman filter creating the necessary matrices\n",
    "        \"\"\"\n",
    "        self.mu = np.zeros((dim_x, 1))  # mean state estimate\n",
    "        self.Sigma = np.eye(dim_x)  # covariance state estimate\n",
    "        self.Mt = np.eye(dim_u)  # process noise\n",
    "        self.Qt = np.eye(dim_z)  # measurement noise\n",
    "\n",
    "        self.eval_gux = eval_gux\n",
    "        self.eval_Gt = eval_Gt\n",
    "        self.eval_Vt = eval_Vt\n",
    "\n",
    "        self.eval_hx = eval_hx\n",
    "        self.eval_Ht = eval_Ht\n",
    "\n",
    "        self._I = np.eye(dim_x)  # identity matrix used for computations"
   ]
  },
  {
   "cell_type": "markdown",
   "metadata": {},
   "source": [
    "#### Prediction Step\n",
    "\n",
    "The function `predict` implement the prediction step of the EKF given an input and a time interval.\n",
    "\n",
    "Complete where you find the symbol `...` using the equations of the EKF\n",
    "\n",
    "$$\n",
    "\\begin{aligned}\n",
    "\\bar{\\mu}_t =& g(u_t, \\mu_{t-1}) \\\\\n",
    "\\bar{\\Sigma}_t =& G_t \\Sigma_{t-1} G_t^T + V_t M_t V_t^T\n",
    "\\end{aligned}\n",
    "$$\n",
    "\n",
    "  The argument `g_extra_args` is a tuple of all the arguments different from $\\mu_{t-1}$ and $u_t$ to evaluate the motion model, e.g. $\\Delta t$ for the velocity motion model.\n"
   ]
  },
  {
   "cell_type": "code",
   "execution_count": 459,
   "metadata": {},
   "outputs": [],
   "source": [
    "def predict(self, u, g_extra_args=()):\n",
    "    \"\"\"\n",
    "    Update the state prediction using the control input u and compute the relative uncertainty ellipse\n",
    "\n",
    "    Modified variables:\n",
    "        self.mu: the state prediction\n",
    "        self.Sigma: the covariance matrix of the state prediction\n",
    "    \"\"\"\n",
    "    # Update the state prediction evaluating the motion model\n",
    "    self.mu = self.eval_gux(*self.mu[:, 0], *u[:, 0], *g_extra_args)\n",
    "    \n",
    "    # Update the covariance matrix of the state prediction, \n",
    "    # you need to evaluate the Jacobians Gt and Vt\n",
    "    Gt = self.eval_Gt(*self.mu[:, 0], *u[:, 0], *g_extra_args)\n",
    "    Vt = self.eval_Vt(*self.mu[:, 0], *u[:, 0], *g_extra_args)\n",
    "    self.Sigma = Gt @ self.Sigma @ Gt.T + Vt @ self.Mt @ Vt.T \n",
    "\n",
    "RobotEKF.predict = predict"
   ]
  },
  {
   "cell_type": "markdown",
   "metadata": {},
   "source": [
    "#### Measurement Update Step\n",
    "\n",
    "The function `update` compute the posterior of the filter given a measure `z`, a measurement model `hx` and its Jacobian `H`.\n",
    "\n",
    "Complete the function where you find the symbol `...` with the posterior update equations of the EKF.\n",
    "\n",
    "$$\n",
    "\\begin{aligned}\n",
    "S_t^i &= H_t^i \\bar{\\Sigma}_t [H_t^i]^T + Q_t \\\\\n",
    "K_i^t &= \\bar{\\Sigma}_t [H_t^i]^T [S_t^i]^{-1} \\\\\n",
    "\\mu_t &= \\bar{\\mu}_t + K^i_t(z^i_t - \\hat{z}_t^i) \\\\\n",
    "\\Sigma_t &= (I - K^i_t H^i_t) \\bar{\\Sigma}_t\n",
    "\\end{aligned}\n",
    "$$\n",
    "\n",
    "The argument `h_extra_args` is a tuple of all the arguments different from $\\bar \\mu_t$ to evaluate the measurement model, e.g. the landmark position."
   ]
  },
  {
   "cell_type": "code",
   "execution_count": 460,
   "metadata": {},
   "outputs": [],
   "source": [
    "def update(self, z, lmark, residual=np.subtract):\n",
    "    \"\"\"Performs the update innovation of the extended Kalman filter.\n",
    "\n",
    "    Parameters\n",
    "    ----------\n",
    "\n",
    "    z : np.array\n",
    "        measurement for this step.\n",
    "\n",
    "    lmark : [x, y] list-like\n",
    "        Landmark location in cartesian coordinates.\n",
    "\n",
    "    residual : function (z, z2), optional\n",
    "        Optional function that computes the residual (difference) between\n",
    "        the two measurement vectors. If you do not provide this, then the\n",
    "        built in minus operator will be used. You will normally want to use\n",
    "        the built in unless your residual computation is nonlinear (for\n",
    "        example, if they are angles)\n",
    "    \"\"\"\n",
    "    \n",
    "    # Convert the measurement to a vector if necessary. Needed for the residual computation\n",
    "    if np.isscalar(z) and self.dim_z == 1:\n",
    "        z = np.asarray([z], float)\n",
    "\n",
    "    # Compute the Kalman gain, you need to evaluate the Jacobian Ht\n",
    "    Ht = self.eval_Ht(*self.mu[:,0], *lmark)\n",
    "    self.S = Ht @ self.Sigma @ Ht.T + self.Qt\n",
    "    self.K = self.Sigma @ Ht.T @ np.linalg.inv(self.S)\n",
    "\n",
    "    # Evaluate the expected measurement and compute the residual, then update the state prediction\n",
    "    z_hat = self.eval_hx(*self.mu[:,0], *lmark)\n",
    "    self.y = residual(z, z_hat[:,0])\n",
    "    self.mu = self.mu + self.K @ (z - z_hat)\n",
    "\n",
    "    # P = (I-KH)P(I-KH)' + KRK' is more numerically stable and works for non-optimal K vs the equation\n",
    "    # P = (I-KH)P usually seen in the literature. \n",
    "    # Note that I is the identity matrix.\n",
    "    I_KH = self._I - self.K @ Ht\n",
    "    self.Sigma = I_KH @ self.Sigma\n",
    "\n",
    "RobotEKF.update = update"
   ]
  },
  {
   "cell_type": "markdown",
   "metadata": {},
   "source": [
    "---\n",
    "## Measurement Simulator\n",
    "\n",
    "This function simulate the measurement of a landmark adding noise to the value computed with the measurement model. \n",
    "\n",
    "The sensor has a Field of View (FOV) of 180° and a maximum range of 15 meters, i.e. only the landmarks reasonably in the robot's view can be used to correct the filter.\n",
    "\n",
    "Fill the `...` with the arguments to evaluate the function."
   ]
  },
  {
   "cell_type": "code",
   "execution_count": 461,
   "metadata": {},
   "outputs": [],
   "source": [
    "from numpy.random import randn # function to get a random number from a Gaussian distribution\n",
    "\n",
    "def z_landmark(x, lmark, std_rng=0.5, std_brg=0.5):\n",
    "    \"\"\"\n",
    "    Simulate the measurement of a landmark adding some Gaussian noise\n",
    "\n",
    "    Args:\n",
    "        x [np.array]: the position of the robot with shape (dim_x, 1)\n",
    "        lmark [np.array or List]: the position of the landmark, eg. [x, y]\n",
    "        std_rng [float]: the standard deviation of the range measurement\n",
    "        std_brg [float]: the standard deviation of the bearing measurement\n",
    "    Returns:\n",
    "        z [np.array]: the measurement of the landmark\n",
    "    \"\"\"\n",
    "    z = eval_hx(*x[:,0], *lmark)\n",
    "\n",
    "    # filter z for a more realistic sensor simulation (add a max range distance and a FOV)\n",
    "    fov = np.deg2rad(45)\n",
    "    if z[0, 0] < 8.0 and abs(z[1, 0])<fov:\n",
    "        return z + np.array([[randn() * std_rng**2, randn() * std_brg]]).T\n",
    "        \n",
    "    return None"
   ]
  },
  {
   "cell_type": "markdown",
   "metadata": {},
   "source": [
    "Now we have another issue to handle. The residual is notionally computed as $y = z - h(x)$ but this will not work because our measurement contains an angle in it. Suppose z has a bearing of $1^\\circ$ and $h(x)$ has a bearing of $359^\\circ$. Naively subtracting them would yield a angular difference of $-358^\\circ$, whereas the correct value is $2^\\circ$. We have to write code to correctly compute the bearing residual."
   ]
  },
  {
   "cell_type": "code",
   "execution_count": 462,
   "metadata": {},
   "outputs": [],
   "source": [
    "def residual(a, b):\n",
    "    \"\"\"\n",
    "    Compute the residual between measuremnts, normalizing angles between [-pi, pi)\n",
    "\n",
    "    Returns:\n",
    "        y [np.array] : the residual between the two states\n",
    "    \"\"\"\n",
    "    y = a - b\n",
    "    y[1] = y[1] % (2 * np.pi)  # force in range [0, 2 pi)\n",
    "    if y[1] > np.pi:  # move to [-pi, pi)\n",
    "        y[1] -= 2 * np.pi\n",
    "    return y"
   ]
  },
  {
   "cell_type": "markdown",
   "metadata": {},
   "source": [
    "---\n",
    "<a id='simulator1'></a>\n",
    "\n",
    "## Simulator\n",
    "\n",
    "The following function implements a simple simulator that you can use to test your filters. It deals with three tasks:\n",
    "\n",
    "- **simulate the robot** evaluating the motion model at a frequency higher w.r.t. the update rate of the EKF, defined by the parameter `sim_step_s`\n",
    "- **run the EKF** at its expected frequency `ekf_dt`\n",
    "- **plot** the simulated (real) path and the positions estimated by the EKF with the prior and posterior covariances\n",
    "\n",
    "Complete the functions where you find `...`"
   ]
  },
  {
   "cell_type": "code",
   "execution_count": 463,
   "metadata": {},
   "outputs": [],
   "source": [
    "from utils import plot_covariance\n",
    "import matplotlib.pyplot as plt\n",
    "\n",
    "\n",
    "def run_localization(\n",
    "    ekf: RobotEKF,\n",
    "    ekf_dt,\n",
    "    landmarks,\n",
    "    std_lin_vel,\n",
    "    std_ang_vel,\n",
    "    std_range,\n",
    "    std_bearing,\n",
    "    sim_step_s=0.1,\n",
    "    ellipse_step_s=5.0,\n",
    "    sim_length_s=1,\n",
    "):\n",
    "    sim_pos = ekf.mu.copy()  # simulated position, copy the initial position set inside the EKF\n",
    "    odom_pos = ekf.mu.copy()  # odometry position, copy the initial position set inside the EKF\n",
    "    sim_noise_generator = np.random.default_rng(42424242)  # random noise generator\n",
    "\n",
    "    cmd_vel = np.array(\n",
    "        [[1.10, 0.05]]\n",
    "    ).T  # velocity command (v, omega). In this case will be constant for the whole simulation\n",
    "\n",
    "    # convert the durations to number of time steps\n",
    "    steps = int(sim_length_s / sim_step_s)\n",
    "    ekf_step = int(ekf_dt / sim_step_s)\n",
    "    ellipse_step = int(ellipse_step_s / sim_step_s)\n",
    "\n",
    "    # Initialize a plot and insert the landmarks\n",
    "    fig, ax = plt.subplots(1, 2, figsize=(9, 4))\n",
    "    lmarks_legend = ax[0].scatter(landmarks[:, 0], landmarks[:, 1], marker=\"s\", s=60, label=\"Landmarks\")\n",
    "\n",
    "    track = []  # list to store all the robot positions\n",
    "    track_odom = []  # list to store all the odometry positions\n",
    "    track_ekf = [ekf.mu.copy()]  # list to store all the ekf positions\n",
    "\n",
    "    # The main loop that runs the simulation\n",
    "    for i in range(steps):\n",
    "        # to simulate the error in the actuation of the robot, we add some Gaussian noise to the velocity command\n",
    "        noisy_vel = cmd_vel + np.array([[std_lin_vel, std_ang_vel]]).T * sim_noise_generator.normal(size=(2, 1))\n",
    "        # Simulate robot motion for sim_step_s seconds using the Velocity Motion Model.\n",
    "        # Complete with the correct data to evaluate the motion model, use the noisy_vel variable\n",
    "        sim_pos = eval_gux(*sim_pos[:,0], *noisy_vel[:,0], sim_step_s) \n",
    "        track.append(sim_pos)\n",
    "\n",
    "        # to simulate the error in the odometry reading, we take another Gaussian sample of the velocity command\n",
    "        noisy_vel = cmd_vel + np.array([[std_lin_vel, std_ang_vel]]).T * sim_noise_generator.normal(size=(2, 1))\n",
    "        # complete with the correct data to evaluate the motion model, use the noisy_vel variable\n",
    "        odom_pos = eval_gux(*sim_pos[:,0], *noisy_vel[:,0], sim_step_s)\n",
    "        track_odom.append(odom_pos)\n",
    "\n",
    "        if i % ekf_step == 0 and i != 0:  # only update ekf at dt intervals\n",
    "            # run the prediction step of the EKF\n",
    "            ekf.predict(u=cmd_vel, g_extra_args=(ekf_dt,))\n",
    "\n",
    "            if i % ellipse_step == 0:  # plot the prior covariance ellipses every ellipse_step_s seconds\n",
    "                pri_ellipse = plot_covariance(\n",
    "                    (ekf.mu[0, 0], ekf.mu[1, 0]),\n",
    "                    ekf.Sigma[0:2, 0:2],\n",
    "                    std=6,\n",
    "                    facecolor=\"k\",\n",
    "                    alpha=0.4,\n",
    "                    label=\"Predicted Cov\",\n",
    "                    ax=ax[0],\n",
    "                )\n",
    "\n",
    "            for lmark in landmarks:  # loop over each landmark\n",
    "                z = z_landmark(sim_pos[:,0], lmark, std_range, std_bearing)  # simulate the measurement of the landmark\n",
    "\n",
    "                # if any landmark detected by the sensor, update the EKF\n",
    "                if z is not None:\n",
    "                    # run the correction step of the EKF\n",
    "                    ekf.update(z, lmark, residual=residual)\n",
    "\n",
    "            if i % ellipse_step == 0:  # plot the posterior covariance ellipses every ellipse_step_s seconds\n",
    "                post_ellipse = plot_covariance(\n",
    "                    (ekf.mu[0, 0], ekf.mu[1, 0]),\n",
    "                    ekf.Sigma[0:2, 0:2],\n",
    "                    std=6,\n",
    "                    facecolor=\"g\",\n",
    "                    alpha=0.8,\n",
    "                    label=\"Corrected Cov\",\n",
    "                    ax=ax[0],\n",
    "                )\n",
    "            track_ekf.append(ekf.mu.copy())\n",
    "\n",
    "    # draw plots\n",
    "    track = np.array(track)\n",
    "    track_odom = np.array(track_odom)\n",
    "    track_ekf = np.array(track_ekf)\n",
    "    \n",
    "    # trajectory plots\n",
    "    (track_legend,) = ax[0].plot(track[:, 0], track[:, 1], label=\"Real robot path\")\n",
    "    (track_odom_legend,) = ax[0].plot(track_odom[:, 0], track_odom[:, 1], \"--\", label=\"Odometry path\")\n",
    "    ax[0].axis(\"equal\")\n",
    "    ax[0].set_title(\"EKF Robot localization\")\n",
    "    ax[0].legend(handles=[lmarks_legend, track_legend, track_odom_legend, pri_ellipse, post_ellipse])\n",
    "\n",
    "    # error plots\n",
    "    ekf_err, =  ax[1].plot(\n",
    "        np.arange(0, sim_length_s, ekf_dt), \n",
    "        np.linalg.norm(track[::ekf_step, :2] - track_ekf[:, :2], axis=1), \n",
    "        '-o',\n",
    "        label=\"EKF error\",\n",
    "    )\n",
    "    odom_err, = ax[1].plot(\n",
    "        np.arange(0, sim_length_s, sim_step_s), \n",
    "        np.linalg.norm(track[:, :2] - track_odom[:, :2], axis=1), \n",
    "        label=\"Odometry error\",\n",
    "    )\n",
    "    ax[1].legend(handles=[ekf_err, odom_err])\n",
    "    ax[1].set_title(\"Robot path error\")\n",
    "\n",
    "    fig.suptitle(\"EKF Robot localization, Velocity Motion Model\")\n",
    "    fig.tight_layout()\n",
    "\n",
    "    plt.show()"
   ]
  },
  {
   "cell_type": "markdown",
   "metadata": {},
   "source": [
    "### Run the simulation\n",
    "Here it an example of how to run the simulation. \n",
    "- Create a vector of landmarks positions\n",
    "- Call the function that run the simulation passing all the arguments\n",
    "\n",
    "To test if your code is working properly, run the code below without changing parameters. The expected output is reported below.\n",
    "\n",
    "\n",
    "![Expected Output](./expected_output.png)"
   ]
  },
  {
   "cell_type": "code",
   "execution_count": 464,
   "metadata": {},
   "outputs": [],
   "source": [
    "# Parameters\n",
    "seed = 42  # because it is the answer to the Ultimate Question of Life, The Universe and Everything :)\n",
    "\n",
    "landmarks = np.array([[5, 12], [10, 5], [15, 15], [10, 14], [6, 6], [12, 9]])  # standard landmarks\n",
    "\n",
    "ekf_dt = 1.0  # time interval between measurements [s]\n",
    "sim_length_s = 15  # length of the simulation [s]\n",
    "\n",
    "# set the seed to get the same results every time\n",
    "std_lin_vel = 0.1  # [m/s]\n",
    "std_ang_vel = np.deg2rad(1.0)  # [rad/s]\n",
    "std_range = 0.3  # [m]\n",
    "std_bearing = np.deg2rad(1.0)  # [rad]"
   ]
  },
  {
   "cell_type": "code",
   "execution_count": 469,
   "metadata": {},
   "outputs": [],
   "source": [
    "# set the seed to get the same results every time\n",
    "np.random.seed(seed)\n",
    "\n",
    "# Initialize the EKF\n",
    "ekf = RobotEKF(\n",
    "    dim_x=3,\n",
    "    dim_z=2,\n",
    "    dim_u=2,\n",
    "    eval_gux=eval_gux,\n",
    "    eval_Gt=eval_Gt,\n",
    "    eval_Vt=eval_Vt,\n",
    "    eval_hx=eval_hx,\n",
    "    eval_Ht=eval_Ht,\n",
    ")\n",
    "ekf.mu = np.array([[2, 6, 0.3]]).T  # x, y, theta\n",
    "ekf.Sigma = np.diag([0.1, 0.1, 0.1])\n",
    "ekf.Mt = np.diag([std_lin_vel**2, std_ang_vel**2])\n",
    "ekf.Qt = np.diag([std_range**2, std_bearing**2])\n",
    "\n",
    "\n",
    "run_localization(\n",
    "    ekf,\n",
    "    ekf_dt=ekf_dt,\n",
    "    landmarks=landmarks,\n",
    "    std_lin_vel=std_lin_vel,\n",
    "    std_ang_vel=std_ang_vel,\n",
    "    std_range=std_range,\n",
    "    std_bearing=std_bearing,\n",
    "    ellipse_step_s=2.0,\n",
    "    sim_length_s=sim_length_s,\n",
    ")"
   ]
  },
  {
   "cell_type": "markdown",
   "metadata": {},
   "source": [
    "---\n",
    "\n",
    "## Odometry Motion Model\n",
    "\n",
    "Implement the Odometry motion model described by the equations reported below.\n",
    "1. Get the inputs $\\delta_{rot1}$ , $\\delta_{trasl}$, $\\delta_{rot2}$ from the previous odometry reading $\\bar x$ and the current odometry reading $\\bar x'$\n",
    "2. Implement the function $g(u_t,x_{t-1})$ to use this model inside an EKF\n",
    "\n",
    "$$\n",
    "\\begin{align}\n",
    "&\\delta_{rot1} =& \\operatorname{atan_{2}}{\\left(\\bar{y}'- \\bar{y} ,\\bar{x}' - \\bar{x}  \\right)} - \\bar{\\theta} \\\\\n",
    "&\\delta_{trasl} =& \\sqrt{\\left(\\bar{x}' - \\bar{x} \\right)^{2} + \\left(\\bar{y}' - \\bar{y} \\right)^{2}} \\\\\n",
    "&\\delta_{rot2} =& \\bar{\\theta}' - \\delta_{rot1} - \\bar{\\theta} \\\\\n",
    "\\end{align}\n",
    "$$\n",
    "\n",
    "$$\n",
    "\\begin{pmatrix}\n",
    "x_t \\\\ y_t \\\\ \\theta_t\n",
    "\\end{pmatrix} = g(u_t,x_{t-1}) + \\mathcal{N}(0, R_t) = \n",
    "\\begin{pmatrix}\n",
    "x_{t-1} \\\\ y_{t-1} \\\\ \\theta_{t-1}\n",
    "\\end{pmatrix} + \n",
    "\\left(\n",
    "    \\begin{matrix}\n",
    "    \\delta_{trasl} \\cos{\\left(\\delta_{rot1} + \\theta \\right)} \\\\\n",
    "    \\delta_{trasl} \\sin{\\left(\\delta_{rot1} + \\theta \\right)} \\\\\n",
    "    \\delta_{rot1} + \\delta_{rot2}\n",
    "    \\end{matrix} \n",
    "\\right) + \\mathcal{N}(0, R_t)\n",
    "$$"
   ]
  },
  {
   "cell_type": "code",
   "execution_count": null,
   "metadata": {},
   "outputs": [],
   "source": [
    "def get_odometry_input(x, x_prev):\n",
    "    rot1 = ...\n",
    "    trasl = ...\n",
    "    rot2 = ...\n",
    "    return np.array([[rot1, trasl, rot2]]).T"
   ]
  },
  {
   "cell_type": "code",
   "execution_count": null,
   "metadata": {},
   "outputs": [],
   "source": [
    "gux_odom = ...\n",
    "Gt_odom = ...\n",
    "Vt_odom = ...\n",
    "\n",
    "eval_gux_odom = ...\n",
    "eval_Gt_odom = ...\n",
    "eval_Vt_odom = ..."
   ]
  },
  {
   "cell_type": "markdown",
   "metadata": {},
   "source": [
    "--- \n",
    "\n",
    "## Simulator (with Odometry motion model)\n",
    "\n",
    "This function is very similar to the previous simulator but there are some small changes in the prediction step where it is used the function `get_odometry_input` and the previous odometry position is stored for the next iteration."
   ]
  },
  {
   "cell_type": "code",
   "execution_count": null,
   "metadata": {},
   "outputs": [],
   "source": [
    "def run_localization_odom(\n",
    "    ekf: RobotEKF,\n",
    "    ekf_dt,\n",
    "    landmarks,\n",
    "    std_lin_vel,\n",
    "    std_ang_vel,\n",
    "    std_range,\n",
    "    std_bearing,\n",
    "    sim_step_s=0.1,\n",
    "    ellipse_step_s=5.0,\n",
    "    sim_length_s=1,\n",
    "):\n",
    "    sim_pos = ekf.mu.copy()  # simulated position, copy the initial position set inside the EKF\n",
    "    odom_pos = ekf.mu.copy()  # odometry position, copy the initial position set inside the EKF\n",
    "    sim_noise_generator = np.random.default_rng(42424242)  # random noise generator\n",
    "\n",
    "    cmd_vel = np.array(\n",
    "        [[1.10, 0.05]]\n",
    "    ).T  # velocity command (v, omega). In this case will be constant for the whole simulation\n",
    "\n",
    "    # convert the durations to number of time steps\n",
    "    steps = int(sim_length_s / sim_step_s)\n",
    "    ekf_step = int(ekf_dt / sim_step_s)\n",
    "    ellipse_step = int(ellipse_step_s / sim_step_s)\n",
    "\n",
    "    # Initialize a plot and insert the landmarks\n",
    "    fig, ax = plt.subplots(1, 2, figsize=(9, 4))\n",
    "    lmarks_legend = ax[0].scatter(landmarks[:, 0], landmarks[:, 1], marker=\"s\", s=60, label=\"Landmarks\")\n",
    "\n",
    "    track = []  # list to store all the robot positions\n",
    "    track_odom = []  # list to store all the odometry positions\n",
    "    track_ekf = [ekf.mu.copy()]  # list to store all the ekf positions\n",
    "\n",
    "    odom_pos_prev = odom_pos.copy()\n",
    "\n",
    "    # The main loop that runs the simulation\n",
    "    for i in range(steps):\n",
    "        # to simulate the error in the actuation of the robot, we add some Gaussian noise to the velocity command\n",
    "        noisy_vel = cmd_vel + np.array([[std_lin_vel, std_ang_vel]]).T * sim_noise_generator.normal(size=(2, 1))\n",
    "        # Simulate robot motion for sim_step_s seconds using the Velocity Motion Model.\n",
    "        # Complete with the correct data to evaluate the motion model\n",
    "        sim_pos = eval_gux(...)\n",
    "        track.append(sim_pos)\n",
    "\n",
    "        # to simulate the error in the odometry reading, we take another Gaussian sample of the velocity command\n",
    "        noisy_vel = cmd_vel + np.array([[std_lin_vel, std_ang_vel]]).T * sim_noise_generator.normal(size=(2, 1))\n",
    "        odom_pos = eval_gux(...)\n",
    "        track_odom.append(odom_pos)\n",
    "\n",
    "        if i % ekf_step == 0 and i != 0:  # only update ekf at dt intervals\n",
    "            # run the prediction step of the EKF\n",
    "            u = get_odometry_input(odom_pos, odom_pos_prev)\n",
    "            ekf.predict(u=u)\n",
    "            odom_pos_prev = odom_pos.copy()\n",
    "\n",
    "            if i % ellipse_step == 0:  # plot the prior covariance ellipses every ellipse_step_s seconds\n",
    "                pri_ellipse = plot_covariance(\n",
    "                    (ekf.mu[0, 0], ekf.mu[1, 0]),\n",
    "                    ekf.Sigma[0:2, 0:2],\n",
    "                    std=6,\n",
    "                    facecolor=\"k\",\n",
    "                    alpha=0.4,\n",
    "                    label=\"Predicted Cov\",\n",
    "                    ax=ax[0],\n",
    "                )\n",
    "\n",
    "            for lmark in landmarks:  # loop over each landmark\n",
    "                z = z_landmark(sim_pos, lmark, std_range, std_bearing)  # simulate the measurement of the landmark\n",
    "\n",
    "                # if any landmark detected by the sensor, update the EKF\n",
    "                if z is not None:\n",
    "                    # run the correction step of the EKF\n",
    "                    ekf.update(z, lmark, residual=residual)\n",
    "\n",
    "            if i % ellipse_step == 0:  # plot the posterior covariance ellipses every ellipse_step_s seconds\n",
    "                post_ellipse = plot_covariance(\n",
    "                    (ekf.mu[0, 0], ekf.mu[1, 0]),\n",
    "                    ekf.Sigma[0:2, 0:2],\n",
    "                    std=6,\n",
    "                    facecolor=\"g\",\n",
    "                    alpha=0.8,\n",
    "                    label=\"Corrected Cov\",\n",
    "                    ax=ax[0],\n",
    "                )\n",
    "            track_ekf.append(ekf.mu.copy())\n",
    "\n",
    "    # draw plots\n",
    "    track = np.array(track)\n",
    "    track_odom = np.array(track_odom)\n",
    "    track_ekf = np.array(track_ekf)\n",
    "    \n",
    "    # trajectory plots\n",
    "    (track_legend,) = ax[0].plot(track[:, 0], track[:, 1], label=\"Real robot path\")\n",
    "    (track_odom_legend,) = ax[0].plot(track_odom[:, 0], track_odom[:, 1], \"--\", label=\"Odometry path\")\n",
    "    ax[0].axis(\"equal\")\n",
    "    ax[0].set_title(\"EKF Robot localization\")\n",
    "    ax[0].legend(handles=[lmarks_legend, track_legend, track_odom_legend, pri_ellipse, post_ellipse])\n",
    "\n",
    "    # error plots\n",
    "    ekf_err, =  ax[1].plot(\n",
    "        np.arange(0, sim_length_s, ekf_dt), \n",
    "        np.linalg.norm(track[::ekf_step, :2] - track_ekf[:, :2], axis=1), \n",
    "        '-o',\n",
    "        label=\"EKF error\",\n",
    "    )\n",
    "    odom_err, = ax[1].plot(\n",
    "        np.arange(0, sim_length_s, sim_step_s), \n",
    "        np.linalg.norm(track[:, :2] - track_odom[:, :2], axis=1), \n",
    "        label=\"Odometry error\",\n",
    "    )\n",
    "    ax[1].legend(handles=[ekf_err, odom_err])\n",
    "    ax[1].set_title(\"Robot path error\")\n",
    "\n",
    "    fig.suptitle(\"EKF Robot localization, Velocity Motion Model\")\n",
    "    fig.tight_layout()\n",
    "\n",
    "    plt.show()"
   ]
  },
  {
   "cell_type": "markdown",
   "metadata": {},
   "source": [
    "### Run the simulation\n",
    "\n",
    "Define suitable standard deviation values for `std_rot1`, `std_trasl`, `std_rot2`.\n",
    "\n",
    "The expected output should be similar to the plot reported below, results may vary depending on your standard deviations.\n",
    "\n",
    "![expected_output_odom.png](./expected_output_odom.png)"
   ]
  },
  {
   "cell_type": "code",
   "execution_count": null,
   "metadata": {},
   "outputs": [
    {
     "ename": "NameError",
     "evalue": "name 'eval_gux_odom' is not defined",
     "output_type": "error",
     "traceback": [
      "\u001b[0;31m---------------------------------------------------------------------------\u001b[0m",
      "\u001b[0;31mNameError\u001b[0m                                 Traceback (most recent call last)",
      "\u001b[1;32m/home/kristoffer/Documents/Skole/Sensors_embedded_systems_and_algorithms_for/lab04_material/ekf_students.ipynb Cell 50\u001b[0m line \u001b[0;36m1\n\u001b[1;32m      <a href='vscode-notebook-cell:/home/kristoffer/Documents/Skole/Sensors_embedded_systems_and_algorithms_for/lab04_material/ekf_students.ipynb#X66sZmlsZQ%3D%3D?line=5'>6</a>\u001b[0m std_rot2 \u001b[39m=\u001b[39m \u001b[39m.\u001b[39m\u001b[39m.\u001b[39m\u001b[39m.\u001b[39m\n\u001b[1;32m      <a href='vscode-notebook-cell:/home/kristoffer/Documents/Skole/Sensors_embedded_systems_and_algorithms_for/lab04_material/ekf_students.ipynb#X66sZmlsZQ%3D%3D?line=7'>8</a>\u001b[0m \u001b[39m# Initialize the EKF\u001b[39;00m\n\u001b[1;32m      <a href='vscode-notebook-cell:/home/kristoffer/Documents/Skole/Sensors_embedded_systems_and_algorithms_for/lab04_material/ekf_students.ipynb#X66sZmlsZQ%3D%3D?line=8'>9</a>\u001b[0m ekf \u001b[39m=\u001b[39m RobotEKF(\n\u001b[1;32m     <a href='vscode-notebook-cell:/home/kristoffer/Documents/Skole/Sensors_embedded_systems_and_algorithms_for/lab04_material/ekf_students.ipynb#X66sZmlsZQ%3D%3D?line=9'>10</a>\u001b[0m     dim_x\u001b[39m=\u001b[39m\u001b[39m3\u001b[39m,\n\u001b[1;32m     <a href='vscode-notebook-cell:/home/kristoffer/Documents/Skole/Sensors_embedded_systems_and_algorithms_for/lab04_material/ekf_students.ipynb#X66sZmlsZQ%3D%3D?line=10'>11</a>\u001b[0m     dim_z\u001b[39m=\u001b[39m\u001b[39m2\u001b[39m,\n\u001b[1;32m     <a href='vscode-notebook-cell:/home/kristoffer/Documents/Skole/Sensors_embedded_systems_and_algorithms_for/lab04_material/ekf_students.ipynb#X66sZmlsZQ%3D%3D?line=11'>12</a>\u001b[0m     dim_u\u001b[39m=\u001b[39m\u001b[39m3\u001b[39m,\n\u001b[0;32m---> <a href='vscode-notebook-cell:/home/kristoffer/Documents/Skole/Sensors_embedded_systems_and_algorithms_for/lab04_material/ekf_students.ipynb#X66sZmlsZQ%3D%3D?line=12'>13</a>\u001b[0m     eval_gux\u001b[39m=\u001b[39meval_gux_odom,\n\u001b[1;32m     <a href='vscode-notebook-cell:/home/kristoffer/Documents/Skole/Sensors_embedded_systems_and_algorithms_for/lab04_material/ekf_students.ipynb#X66sZmlsZQ%3D%3D?line=13'>14</a>\u001b[0m     eval_Gt\u001b[39m=\u001b[39meval_Gt_odom,\n\u001b[1;32m     <a href='vscode-notebook-cell:/home/kristoffer/Documents/Skole/Sensors_embedded_systems_and_algorithms_for/lab04_material/ekf_students.ipynb#X66sZmlsZQ%3D%3D?line=14'>15</a>\u001b[0m     eval_Vt\u001b[39m=\u001b[39meval_Vt_odom,\n\u001b[1;32m     <a href='vscode-notebook-cell:/home/kristoffer/Documents/Skole/Sensors_embedded_systems_and_algorithms_for/lab04_material/ekf_students.ipynb#X66sZmlsZQ%3D%3D?line=15'>16</a>\u001b[0m     eval_hx\u001b[39m=\u001b[39meval_hx,\n\u001b[1;32m     <a href='vscode-notebook-cell:/home/kristoffer/Documents/Skole/Sensors_embedded_systems_and_algorithms_for/lab04_material/ekf_students.ipynb#X66sZmlsZQ%3D%3D?line=16'>17</a>\u001b[0m     eval_Ht\u001b[39m=\u001b[39meval_Ht,\n\u001b[1;32m     <a href='vscode-notebook-cell:/home/kristoffer/Documents/Skole/Sensors_embedded_systems_and_algorithms_for/lab04_material/ekf_students.ipynb#X66sZmlsZQ%3D%3D?line=17'>18</a>\u001b[0m )\n\u001b[1;32m     <a href='vscode-notebook-cell:/home/kristoffer/Documents/Skole/Sensors_embedded_systems_and_algorithms_for/lab04_material/ekf_students.ipynb#X66sZmlsZQ%3D%3D?line=18'>19</a>\u001b[0m ekf\u001b[39m.\u001b[39mmu \u001b[39m=\u001b[39m np\u001b[39m.\u001b[39marray([[\u001b[39m2\u001b[39m, \u001b[39m6\u001b[39m, \u001b[39m0.3\u001b[39m]])\u001b[39m.\u001b[39mT  \u001b[39m# x, y, theta\u001b[39;00m\n\u001b[1;32m     <a href='vscode-notebook-cell:/home/kristoffer/Documents/Skole/Sensors_embedded_systems_and_algorithms_for/lab04_material/ekf_students.ipynb#X66sZmlsZQ%3D%3D?line=19'>20</a>\u001b[0m ekf\u001b[39m.\u001b[39mSigma \u001b[39m=\u001b[39m np\u001b[39m.\u001b[39mdiag([\u001b[39m0.1\u001b[39m, \u001b[39m0.1\u001b[39m, \u001b[39m0.1\u001b[39m])\n",
      "\u001b[0;31mNameError\u001b[0m: name 'eval_gux_odom' is not defined"
     ]
    }
   ],
   "source": [
    "# set the seed to get the same results every time\n",
    "np.random.seed(seed)\n",
    "\n",
    "std_rot1 = ...\n",
    "std_trasl = ...\n",
    "std_rot2 = ...\n",
    "\n",
    "# Initialize the EKF\n",
    "ekf = RobotEKF(\n",
    "    dim_x=3,\n",
    "    dim_z=2,\n",
    "    dim_u=3,\n",
    "    eval_gux=eval_gux_odom,\n",
    "    eval_Gt=eval_Gt_odom,\n",
    "    eval_Vt=eval_Vt_odom,\n",
    "    eval_hx=eval_hx,\n",
    "    eval_Ht=eval_Ht,\n",
    ")\n",
    "ekf.mu = np.array([[2, 6, 0.3]]).T  # x, y, theta\n",
    "ekf.Sigma = np.diag([0.1, 0.1, 0.1])\n",
    "ekf.Mt = np.diag([std_rot1**2, std_trasl**2, std_rot2**2])\n",
    "ekf.Qt = np.diag([std_range**2, std_bearing**2])\n",
    "\n",
    "run_localization_odom(\n",
    "    ekf,\n",
    "    ekf_dt=ekf_dt,\n",
    "    landmarks=landmarks,\n",
    "    std_lin_vel=std_lin_vel,\n",
    "    std_ang_vel=std_ang_vel,\n",
    "    std_range=std_range,\n",
    "    std_bearing=std_bearing,\n",
    "    ellipse_step_s=2.0,\n",
    "    sim_length_s=sim_length_s,\n",
    ")"
   ]
  },
  {
   "cell_type": "code",
   "execution_count": null,
   "metadata": {},
   "outputs": [],
   "source": []
  }
 ],
 "metadata": {
  "kernelspec": {
   "display_name": "Python 3",
   "language": "python",
   "name": "python3"
  },
  "language_info": {
   "codemirror_mode": {
    "name": "ipython",
    "version": 3
   },
   "file_extension": ".py",
   "mimetype": "text/x-python",
   "name": "python",
   "nbconvert_exporter": "python",
   "pygments_lexer": "ipython3",
   "version": "3.11.5"
  }
 },
 "nbformat": 4,
 "nbformat_minor": 2
}
